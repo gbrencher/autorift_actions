{
 "cells": [
  {
   "cell_type": "code",
   "execution_count": 15,
   "id": "5fc3a08a-5ecd-45e4-804b-cb73031e3f20",
   "metadata": {},
   "outputs": [],
   "source": [
    "import xarray as xr\n",
    "import os\n",
    "import pystac\n",
    "import pystac_client\n",
    "import stackstac\n",
    "from dask.distributed import Client\n",
    "import dask\n",
    "import json"
   ]
  },
  {
   "cell_type": "code",
   "execution_count": 2,
   "id": "8b1bde93-87f9-402b-8f1d-1669860ccb0d",
   "metadata": {},
   "outputs": [],
   "source": [
    "# GDAL environment variables for better performance\n",
    "os.environ['AWS_REGION']='us-west-2'\n",
    "os.environ['GDAL_DISABLE_READDIR_ON_OPEN']='EMPTY_DIR' \n",
    "os.environ['AWS_NO_SIGN_REQUEST']='YES' "
   ]
  },
  {
   "cell_type": "code",
   "execution_count": 3,
   "id": "4703a000-a76e-4c11-91b3-c759512fafa0",
   "metadata": {},
   "outputs": [],
   "source": [
    "bbox = {\n",
    "    \"type\": \"Polygon\",\n",
    "    \"coordinates\": [\n",
    "          [\n",
    "            [75.42382800808971,36.41082887114753],\n",
    "            [75.19442677164156,36.41082887114753],\n",
    "            [75.19442677164156,36.201076360872946],\n",
    "            [75.42382800808971,36.201076360872946],\n",
    "            [75.42382800808971,36.41082887114753]\n",
    "          ]\n",
    "        ],\n",
    "}"
   ]
  },
  {
   "cell_type": "code",
   "execution_count": 4,
   "id": "3cebabc1-1434-47b6-9299-b24242ceaea0",
   "metadata": {},
   "outputs": [],
   "source": [
    "# We use the api from element84 to query the data\n",
    "URL = \"https://earth-search.aws.element84.com/v1\"\n",
    "catalog = pystac_client.Client.open(URL)"
   ]
  },
  {
   "cell_type": "code",
   "execution_count": 5,
   "id": "078a1953-ea60-48ff-b2c8-39ed5d4f9241",
   "metadata": {},
   "outputs": [
    {
     "name": "stdout",
     "output_type": "stream",
     "text": [
      "Returned 182 Items\n"
     ]
    }
   ],
   "source": [
    "search = catalog.search(\n",
    "    collections=[\"sentinel-2-l2a\"],\n",
    "    intersects=bbox,\n",
    "    query={\"eo:cloud_cover\": {\"lt\": 10}}, # less than 10% cloud cover\n",
    ")\n",
    "\n",
    "# Check how many items were returned\n",
    "items = search.item_collection()\n",
    "print(f\"Returned {len(items)} Items\")"
   ]
  },
  {
   "cell_type": "code",
   "execution_count": 6,
   "id": "30e086c3-fb57-4bfa-8c23-b4e6e857b1ee",
   "metadata": {},
   "outputs": [
    {
     "name": "stderr",
     "output_type": "stream",
     "text": [
      "/srv/conda/envs/image-correlation/lib/python3.12/site-packages/stackstac/prepare.py:408: UserWarning: The argument 'infer_datetime_format' is deprecated and will be removed in a future version. A strict version of it is now the default, see https://pandas.pydata.org/pdeps/0004-consistent-to-datetime-parsing.html. You can safely remove this argument.\n",
      "  times = pd.to_datetime(\n"
     ]
    }
   ],
   "source": [
    "sentinel2_stack = stackstac.stack(items)"
   ]
  },
  {
   "cell_type": "code",
   "execution_count": 7,
   "id": "acb1348f-6dd4-4010-8ae9-9941338f0c2f",
   "metadata": {},
   "outputs": [],
   "source": [
    "# select images from May-September to minimize snow cover\n",
    "sentinel2_stack_snowoff = sentinel2_stack.where((sentinel2_stack.time.dt.month > 5) & (sentinel2_stack.time.dt.month < 10), drop=True)"
   ]
  },
  {
   "cell_type": "code",
   "execution_count": 19,
   "id": "e0a984fa-c428-4a7b-8e5e-e86bb0d9b36b",
   "metadata": {},
   "outputs": [
    {
     "name": "stdout",
     "output_type": "stream",
     "text": [
      "['2018-06-02', '2018-06-07', '2018-07-15', '2018-08-04', '2018-09-18', '2019-07-05', '2019-09-28', '2020-06-29', '2020-07-24', '2020-07-29', '2020-08-23', '2020-08-25', '2020-08-25', '2020-08-25', '2020-08-25', '2020-09-22', '2021-06-06', '2021-06-09', '2021-09-02', '2021-09-04', '2021-09-07', '2021-09-07', '2021-09-09', '2021-09-09', '2021-09-19', '2021-09-27', '2021-09-29', '2022-06-24', '2022-07-01', '2022-07-04', '2022-07-19', '2022-07-21', '2022-09-19', '2022-09-27', '2022-09-29', '2023-06-19', '2023-06-21', '2023-06-24', '2023-07-14', '2023-08-13', '2023-08-30', '2023-09-12']\n"
     ]
    }
   ],
   "source": [
    "print(image_dates)"
   ]
  },
  {
   "cell_type": "code",
   "execution_count": 20,
   "id": "cb492912-e424-48fc-b0ef-dc6ff06ca0da",
   "metadata": {},
   "outputs": [],
   "source": [
    "image_dates = sentinel2_stack_snowoff.time.dt.strftime('%Y-%m-%d').values.tolist()"
   ]
  },
  {
   "cell_type": "code",
   "execution_count": 21,
   "id": "68aaca0f-cf07-46b5-88d8-e236cba371b3",
   "metadata": {},
   "outputs": [],
   "source": [
    "npairs = 3"
   ]
  },
  {
   "cell_type": "code",
   "execution_count": 22,
   "id": "04d8ad36-b90e-4790-bbe4-fc00b1970ce7",
   "metadata": {},
   "outputs": [
    {
     "name": "stdout",
     "output_type": "stream",
     "text": [
      "Number of Interferograms: 117\n"
     ]
    },
    {
     "ename": "KeyError",
     "evalue": "'GITHUB_OUTPUT'",
     "output_type": "error",
     "traceback": [
      "\u001b[0;31m---------------------------------------------------------------------------\u001b[0m",
      "\u001b[0;31mKeyError\u001b[0m                                  Traceback (most recent call last)",
      "Cell \u001b[0;32mIn[22], line 11\u001b[0m\n\u001b[1;32m      8\u001b[0m matrixJSON \u001b[38;5;241m=\u001b[39m \u001b[38;5;124mf\u001b[39m\u001b[38;5;124m'\u001b[39m\u001b[38;5;130;01m{{\u001b[39;00m\u001b[38;5;124m\"\u001b[39m\u001b[38;5;124minclude\u001b[39m\u001b[38;5;124m\"\u001b[39m\u001b[38;5;124m:\u001b[39m\u001b[38;5;132;01m{\u001b[39;00mjson\u001b[38;5;241m.\u001b[39mdumps(pairs)\u001b[38;5;132;01m}\u001b[39;00m\u001b[38;5;130;01m}}\u001b[39;00m\u001b[38;5;124m'\u001b[39m\n\u001b[1;32m      9\u001b[0m \u001b[38;5;28mprint\u001b[39m(\u001b[38;5;124mf\u001b[39m\u001b[38;5;124m'\u001b[39m\u001b[38;5;124mNumber of Interferograms: \u001b[39m\u001b[38;5;132;01m{\u001b[39;00m\u001b[38;5;28mlen\u001b[39m(pairs)\u001b[38;5;132;01m}\u001b[39;00m\u001b[38;5;124m'\u001b[39m)\n\u001b[0;32m---> 11\u001b[0m \u001b[38;5;28;01mwith\u001b[39;00m \u001b[38;5;28mopen\u001b[39m(\u001b[43mos\u001b[49m\u001b[38;5;241;43m.\u001b[39;49m\u001b[43menviron\u001b[49m\u001b[43m[\u001b[49m\u001b[38;5;124;43m'\u001b[39;49m\u001b[38;5;124;43mGITHUB_OUTPUT\u001b[39;49m\u001b[38;5;124;43m'\u001b[39;49m\u001b[43m]\u001b[49m, \u001b[38;5;124m'\u001b[39m\u001b[38;5;124ma\u001b[39m\u001b[38;5;124m'\u001b[39m) \u001b[38;5;28;01mas\u001b[39;00m f:\n\u001b[1;32m     12\u001b[0m     \u001b[38;5;28mprint\u001b[39m(\u001b[38;5;124mf\u001b[39m\u001b[38;5;124m'\u001b[39m\u001b[38;5;124mBURST_IDS=\u001b[39m\u001b[38;5;132;01m{\u001b[39;00mimage_dates\u001b[38;5;132;01m}\u001b[39;00m\u001b[38;5;124m'\u001b[39m, file\u001b[38;5;241m=\u001b[39mf)\n\u001b[1;32m     13\u001b[0m     \u001b[38;5;28mprint\u001b[39m(\u001b[38;5;124mf\u001b[39m\u001b[38;5;124m'\u001b[39m\u001b[38;5;124mMATRIX_PARAMS_COMBINATIONS=\u001b[39m\u001b[38;5;132;01m{\u001b[39;00mmatrixJSON\u001b[38;5;132;01m}\u001b[39;00m\u001b[38;5;124m'\u001b[39m, file\u001b[38;5;241m=\u001b[39mf)\n",
      "File \u001b[0;32m/srv/conda/envs/image-correlation/lib/python3.12/os.py:685\u001b[0m, in \u001b[0;36m_Environ.__getitem__\u001b[0;34m(self, key)\u001b[0m\n\u001b[1;32m    682\u001b[0m     value \u001b[38;5;241m=\u001b[39m \u001b[38;5;28mself\u001b[39m\u001b[38;5;241m.\u001b[39m_data[\u001b[38;5;28mself\u001b[39m\u001b[38;5;241m.\u001b[39mencodekey(key)]\n\u001b[1;32m    683\u001b[0m \u001b[38;5;28;01mexcept\u001b[39;00m \u001b[38;5;167;01mKeyError\u001b[39;00m:\n\u001b[1;32m    684\u001b[0m     \u001b[38;5;66;03m# raise KeyError with the original key value\u001b[39;00m\n\u001b[0;32m--> 685\u001b[0m     \u001b[38;5;28;01mraise\u001b[39;00m \u001b[38;5;167;01mKeyError\u001b[39;00m(key) \u001b[38;5;28;01mfrom\u001b[39;00m \u001b[38;5;28;01mNone\u001b[39;00m\n\u001b[1;32m    686\u001b[0m \u001b[38;5;28;01mreturn\u001b[39;00m \u001b[38;5;28mself\u001b[39m\u001b[38;5;241m.\u001b[39mdecodevalue(value)\n",
      "\u001b[0;31mKeyError\u001b[0m: 'GITHUB_OUTPUT'"
     ]
    }
   ],
   "source": [
    "pairs = []\n",
    "for r in range(len(image_dates) - npairs):\n",
    "    for s in range(1, npairs + 1 ):\n",
    "      img1_date = image_dates[r]\n",
    "      img2_date = image_dates[r+s]\n",
    "      shortname = f'{img1_date}_{img2_date}'\n",
    "      pairs.append({'img1_date': img1_date, 'img2_date': img2_date, 'name':shortname})\n",
    "matrixJSON = f'{{\"include\":{json.dumps(pairs)}}}'\n",
    "print(f'Number of Interferograms: {len(pairs)}')\n",
    "\n",
    "with open(os.environ['GITHUB_OUTPUT'], 'a') as f:\n",
    "    print(f'BURST_IDS={image_dates}', file=f)\n",
    "    print(f'MATRIX_PARAMS_COMBINATIONS={matrixJSON}', file=f)"
   ]
  }
 ],
 "metadata": {
  "kernelspec": {
   "display_name": "image-correlation",
   "language": "python",
   "name": "image-correlation"
  },
  "language_info": {
   "codemirror_mode": {
    "name": "ipython",
    "version": 3
   },
   "file_extension": ".py",
   "mimetype": "text/x-python",
   "name": "python",
   "nbconvert_exporter": "python",
   "pygments_lexer": "ipython3",
   "version": "3.12.3"
  }
 },
 "nbformat": 4,
 "nbformat_minor": 5
}
